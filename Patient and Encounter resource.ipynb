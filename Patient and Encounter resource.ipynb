{
 "cells": [
  {
   "cell_type": "code",
   "execution_count": 36,
   "id": "b1cb613d-5227-480e-b1ce-aab71783576c",
   "metadata": {},
   "outputs": [
    {
     "name": "stdout",
     "output_type": "stream",
     "text": [
      "Response received successfully for Aaron697_Dickens475_8c95253e-8ee8-9ae8-6d40-021d702dc78e.json!\n"
     ]
    }
   ],
   "source": [
    "import requests\n",
    "\n",
    "base_url = 'https://raw.githubusercontent.com/Shyamalasridar/exa-data-eng-assessment/main/data/'\n",
    "json_files = ['Aaron697_Dickens475_8c95253e-8ee8-9ae8-6d40-021d702dc78e.json']\n",
    "\n",
    "for json_file in json_files:\n",
    "    url = base_url + json_file\n",
    "    response = requests.get(url)\n",
    "\n",
    "    if response.status_code == 200:\n",
    "        print(f\"Response received successfully for {json_file}!\")"
   ]
  },
  {
   "cell_type": "code",
   "execution_count": 29,
   "id": "d91b8107-9580-4300-9079-e358446513a9",
   "metadata": {},
   "outputs": [
    {
     "data": {
      "text/html": [
       "<div>\n",
       "<style scoped>\n",
       "    .dataframe tbody tr th:only-of-type {\n",
       "        vertical-align: middle;\n",
       "    }\n",
       "\n",
       "    .dataframe tbody tr th {\n",
       "        vertical-align: top;\n",
       "    }\n",
       "\n",
       "    .dataframe thead th {\n",
       "        text-align: right;\n",
       "    }\n",
       "</style>\n",
       "<table border=\"1\" class=\"dataframe\">\n",
       "  <thead>\n",
       "    <tr style=\"text-align: right;\">\n",
       "      <th></th>\n",
       "      <th>fullUrl</th>\n",
       "      <th>resourceType</th>\n",
       "      <th>id</th>\n",
       "      <th>gender</th>\n",
       "      <th>birthDate</th>\n",
       "      <th>deceasedDateTime</th>\n",
       "      <th>maritalStatus</th>\n",
       "      <th>city</th>\n",
       "      <th>state</th>\n",
       "      <th>country</th>\n",
       "    </tr>\n",
       "  </thead>\n",
       "  <tbody>\n",
       "    <tr>\n",
       "      <th>0</th>\n",
       "      <td>urn:uuid:e5b7d947-da2b-9cf4-12a0-9eb2cf735330</td>\n",
       "      <td>Patient</td>\n",
       "      <td>e5b7d947-da2b-9cf4-12a0-9eb2cf735330</td>\n",
       "      <td>male</td>\n",
       "      <td>1977-05-12</td>\n",
       "      <td>NaN</td>\n",
       "      <td>M</td>\n",
       "      <td>Franklin</td>\n",
       "      <td>MA</td>\n",
       "      <td>US</td>\n",
       "    </tr>\n",
       "  </tbody>\n",
       "</table>\n",
       "</div>"
      ],
      "text/plain": [
       "                                         fullUrl resourceType  \\\n",
       "0  urn:uuid:e5b7d947-da2b-9cf4-12a0-9eb2cf735330      Patient   \n",
       "\n",
       "                                     id gender   birthDate  deceasedDateTime  \\\n",
       "0  e5b7d947-da2b-9cf4-12a0-9eb2cf735330   male  1977-05-12               NaN   \n",
       "\n",
       "  maritalStatus      city state country  \n",
       "0             M  Franklin    MA      US  "
      ]
     },
     "execution_count": 29,
     "metadata": {},
     "output_type": "execute_result"
    }
   ],
   "source": [
    "import pandas as pd\n",
    "import requests\n",
    "\n",
    "base_url = 'https://raw.githubusercontent.com/Shyamalasridar/exa-data-eng-assessment/main/data/'\n",
    "json_files = ['Chase54_Crooks415_e5b7d947-da2b-9cf4-12a0-9eb2cf735330.json']\n",
    "\n",
    "data_list = []\n",
    "for json_file in json_files:\n",
    "    response = requests.get(base_url + json_file)\n",
    "    data = response.json()\n",
    "    entry = data['entry'][0]\n",
    "    patient = entry['resource']\n",
    "    patient_data = {\n",
    "        'fullUrl': entry['fullUrl'],\n",
    "        'resourceType': patient['resourceType'],\n",
    "        'id': patient['id'],\n",
    "        'gender': patient['gender'],\n",
    "        'birthDate': patient['birthDate'],\n",
    "        'deceasedDateTime': patient.get('deceasedDateTime', ''),\n",
    "        'maritalStatus': patient.get('maritalStatus', {}).get('text', ''),\n",
    "        'city': patient['address'][0]['city'], \n",
    "        'state': patient['address'][0]['state'],  \n",
    "        'country': patient['address'][0]['country']  \n",
    "    }\n",
    "    data_list.append(patient_data)\n",
    "\n",
    "df = pd.DataFrame(data_list)\n",
    "df.to_csv('patient_information.csv', index=False)\n",
    "\n",
    "df = pd.read_csv('patient_information.csv')\n",
    "df\n"
   ]
  },
  {
   "cell_type": "code",
   "execution_count": 34,
   "id": "2dee2ff4-c32c-48f2-8757-e684d72774a3",
   "metadata": {},
   "outputs": [],
   "source": [
    "import pandas as pd\n",
    "import requests\n",
    "\n",
    "base_url = 'https://raw.githubusercontent.com/Shyamalasridar/exa-data-eng-assessment/main/data/'\n",
    "json_files = ['Chase54_Crooks415_e5b7d947-da2b-9cf4-12a0-9eb2cf735330.json']\n",
    "\n",
    "data_list = []\n",
    "for json_file in json_files:\n",
    "    response = requests.get(base_url + json_file)\n",
    "    data = response.json()\n",
    "    entry = data['entry'][1]  # Assuming the encounter data is the second entry\n",
    "    encounter = entry['resource']\n",
    "    encounter_data = {\n",
    "        'fullUrl': entry['fullUrl'],\n",
    "        'resourceType': encounter['resourceType'],\n",
    "        'id': encounter['id'],\n",
    "        'status': encounter['status'],\n",
    "        'class_code': encounter['class']['code'],\n",
    "        'type_display': encounter['type'][0]['text'],\n",
    "        'subject_display': encounter['subject']['display'],\n",
    "        'performer_display': encounter['participant'][0]['individual']['display'],\n",
    "        'start': encounter['period']['start'],\n",
    "        'end': encounter['period']['end'],\n",
    "        'location_display': encounter['location'][0]['location']['display'],\n",
    "        'service_provider_display': encounter['serviceProvider']['display']\n",
    "    }\n",
    "    data_list.append(encounter_data)\n",
    "\n",
    "df_encounter = pd.DataFrame(data_list)\n",
    "df_encounter.to_csv('encounter_information.csv', index=False)\n",
    "\n"
   ]
  },
  {
   "cell_type": "code",
   "execution_count": 35,
   "id": "5abad86c-d3c9-4a69-9074-654ff9fce651",
   "metadata": {},
   "outputs": [
    {
     "data": {
      "text/html": [
       "<div>\n",
       "<style scoped>\n",
       "    .dataframe tbody tr th:only-of-type {\n",
       "        vertical-align: middle;\n",
       "    }\n",
       "\n",
       "    .dataframe tbody tr th {\n",
       "        vertical-align: top;\n",
       "    }\n",
       "\n",
       "    .dataframe thead th {\n",
       "        text-align: right;\n",
       "    }\n",
       "</style>\n",
       "<table border=\"1\" class=\"dataframe\">\n",
       "  <thead>\n",
       "    <tr style=\"text-align: right;\">\n",
       "      <th></th>\n",
       "      <th>fullUrl</th>\n",
       "      <th>resourceType</th>\n",
       "      <th>id</th>\n",
       "      <th>status</th>\n",
       "      <th>class_code</th>\n",
       "      <th>type_display</th>\n",
       "      <th>subject_display</th>\n",
       "      <th>performer_display</th>\n",
       "      <th>start</th>\n",
       "      <th>end</th>\n",
       "      <th>location_display</th>\n",
       "      <th>service_provider_display</th>\n",
       "    </tr>\n",
       "  </thead>\n",
       "  <tbody>\n",
       "    <tr>\n",
       "      <th>0</th>\n",
       "      <td>urn:uuid:23d24349-8f13-e55f-d1d4-e5663aa3f2ad</td>\n",
       "      <td>Encounter</td>\n",
       "      <td>23d24349-8f13-e55f-d1d4-e5663aa3f2ad</td>\n",
       "      <td>finished</td>\n",
       "      <td>AMB</td>\n",
       "      <td>General examination of patient (procedure)</td>\n",
       "      <td>Mr. Chase54 Crooks415</td>\n",
       "      <td>Dr. Isaac321 Hudson301</td>\n",
       "      <td>1995-07-06T03:00:07+01:00</td>\n",
       "      <td>1995-07-06T03:15:07+01:00</td>\n",
       "      <td>VHM SERVICES INC</td>\n",
       "      <td>VHM SERVICES INC</td>\n",
       "    </tr>\n",
       "  </tbody>\n",
       "</table>\n",
       "</div>"
      ],
      "text/plain": [
       "                                         fullUrl resourceType  \\\n",
       "0  urn:uuid:23d24349-8f13-e55f-d1d4-e5663aa3f2ad    Encounter   \n",
       "\n",
       "                                     id    status class_code  \\\n",
       "0  23d24349-8f13-e55f-d1d4-e5663aa3f2ad  finished        AMB   \n",
       "\n",
       "                                 type_display        subject_display  \\\n",
       "0  General examination of patient (procedure)  Mr. Chase54 Crooks415   \n",
       "\n",
       "        performer_display                      start  \\\n",
       "0  Dr. Isaac321 Hudson301  1995-07-06T03:00:07+01:00   \n",
       "\n",
       "                         end  location_display service_provider_display  \n",
       "0  1995-07-06T03:15:07+01:00  VHM SERVICES INC         VHM SERVICES INC  "
      ]
     },
     "execution_count": 35,
     "metadata": {},
     "output_type": "execute_result"
    }
   ],
   "source": [
    "df = pd.read_csv('encounter_information.csv')\n",
    "df"
   ]
  },
  {
   "cell_type": "code",
   "execution_count": 37,
   "id": "665b1813-03fa-4a6c-b5ba-9535d8542b04",
   "metadata": {},
   "outputs": [
    {
     "ename": "ModuleNotFoundError",
     "evalue": "No module named 'pymongo'",
     "output_type": "error",
     "traceback": [
      "\u001b[1;31m---------------------------------------------------------------------------\u001b[0m",
      "\u001b[1;31mModuleNotFoundError\u001b[0m                       Traceback (most recent call last)",
      "Cell \u001b[1;32mIn[37], line 1\u001b[0m\n\u001b[1;32m----> 1\u001b[0m \u001b[38;5;28;01mfrom\u001b[39;00m \u001b[38;5;21;01mpymongo\u001b[39;00m \u001b[38;5;28;01mimport\u001b[39;00m MongoClient\n",
      "\u001b[1;31mModuleNotFoundError\u001b[0m: No module named 'pymongo'"
     ]
    }
   ],
   "source": [
    "from pymongo import MongoClient"
   ]
  },
  {
   "cell_type": "code",
   "execution_count": null,
   "id": "1c768af7-8fd3-4f5e-a50a-f19fb3f9f5f6",
   "metadata": {},
   "outputs": [],
   "source": []
  }
 ],
 "metadata": {
  "kernelspec": {
   "display_name": "Python 3 (ipykernel)",
   "language": "python",
   "name": "python3"
  },
  "language_info": {
   "codemirror_mode": {
    "name": "ipython",
    "version": 3
   },
   "file_extension": ".py",
   "mimetype": "text/x-python",
   "name": "python",
   "nbconvert_exporter": "python",
   "pygments_lexer": "ipython3",
   "version": "3.12.3"
  }
 },
 "nbformat": 4,
 "nbformat_minor": 5
}
